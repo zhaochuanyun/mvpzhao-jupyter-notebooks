{
 "cells": [
  {
   "cell_type": "code",
   "execution_count": 1,
   "metadata": {},
   "outputs": [
    {
     "name": "stderr",
     "output_type": "stream",
     "text": [
      "Using TensorFlow backend.\n"
     ]
    }
   ],
   "source": [
    "import numpy as np\n",
    "import keras\n",
    "from keras import models\n",
    "from keras import layers\n",
    "from keras.datasets import imdb\n",
    "import matplotlib.pyplot as plt\n",
    "import os\n",
    "os.environ[\"KMP_DUPLICATE_LIB_OK\"]=\"TRUE\""
   ]
  },
  {
   "cell_type": "code",
   "execution_count": 2,
   "metadata": {},
   "outputs": [],
   "source": [
    "(train_data, train_labels), (test_data, test_labels) = imdb.load_data(num_words=10000)"
   ]
  },
  {
   "cell_type": "code",
   "execution_count": 3,
   "metadata": {},
   "outputs": [
    {
     "name": "stdout",
     "output_type": "stream",
     "text": [
      "(25000,)\n"
     ]
    }
   ],
   "source": [
    "print(train_data.shape)"
   ]
  },
  {
   "cell_type": "code",
   "execution_count": 4,
   "metadata": {},
   "outputs": [
    {
     "name": "stdout",
     "output_type": "stream",
     "text": [
      "(25000,)\n"
     ]
    }
   ],
   "source": [
    "print(train_labels.shape)"
   ]
  },
  {
   "cell_type": "code",
   "execution_count": 5,
   "metadata": {},
   "outputs": [
    {
     "name": "stdout",
     "output_type": "stream",
     "text": [
      "(25000,)\n"
     ]
    }
   ],
   "source": [
    "print(test_data.shape)"
   ]
  },
  {
   "cell_type": "code",
   "execution_count": 6,
   "metadata": {
    "scrolled": true
   },
   "outputs": [
    {
     "name": "stdout",
     "output_type": "stream",
     "text": [
      "[1, 14, 22, 16, 43, 530, 973, 1622, 1385, 65, 458, 4468, 66, 3941, 4, 173, 36, 256, 5, 25, 100, 43, 838, 112, 50, 670, 2, 9, 35, 480, 284, 5, 150, 4, 172, 112, 167, 2, 336, 385, 39, 4, 172, 4536, 1111, 17, 546, 38, 13, 447, 4, 192, 50, 16, 6, 147, 2025, 19, 14, 22, 4, 1920, 4613, 469, 4, 22, 71, 87, 12, 16, 43, 530, 38, 76, 15, 13, 1247, 4, 22, 17, 515, 17, 12, 16, 626, 18, 2, 5, 62, 386, 12, 8, 316, 8, 106, 5, 4, 2223, 5244, 16, 480, 66, 3785, 33, 4, 130, 12, 16, 38, 619, 5, 25, 124, 51, 36, 135, 48, 25, 1415, 33, 6, 22, 12, 215, 28, 77, 52, 5, 14, 407, 16, 82, 2, 8, 4, 107, 117, 5952, 15, 256, 4, 2, 7, 3766, 5, 723, 36, 71, 43, 530, 476, 26, 400, 317, 46, 7, 4, 2, 1029, 13, 104, 88, 4, 381, 15, 297, 98, 32, 2071, 56, 26, 141, 6, 194, 7486, 18, 4, 226, 22, 21, 134, 476, 26, 480, 5, 144, 30, 5535, 18, 51, 36, 28, 224, 92, 25, 104, 4, 226, 65, 16, 38, 1334, 88, 12, 16, 283, 5, 16, 4472, 113, 103, 32, 15, 16, 5345, 19, 178, 32]\n"
     ]
    }
   ],
   "source": [
    "print(train_data[0])"
   ]
  },
  {
   "cell_type": "code",
   "execution_count": 7,
   "metadata": {},
   "outputs": [],
   "source": [
    "word_index = imdb.get_word_index()\n",
    "reverse_word_index = dict([(value, key) for (key, value) in word_index.items()])"
   ]
  },
  {
   "cell_type": "code",
   "execution_count": 8,
   "metadata": {},
   "outputs": [],
   "source": [
    "decode_review = ' '.join([reverse_word_index.get(i-3, '?') for i in train_data[0]])"
   ]
  },
  {
   "cell_type": "code",
   "execution_count": 9,
   "metadata": {},
   "outputs": [
    {
     "data": {
      "text/plain": [
       "\"? this film was just brilliant casting location scenery story direction everyone's really suited the part they played and you could just imagine being there robert ? is an amazing actor and now the same being director ? father came from the same scottish island as myself so i loved the fact there was a real connection with this film the witty remarks throughout the film were great it was just brilliant so much that i bought the film as soon as it was released for ? and would recommend it to everyone to watch and the fly fishing was amazing really cried at the end it was so sad and you know what they say if you cry at a film it must have been good and this definitely was also ? to the two little boy's that played the ? of norman and paul they were just brilliant children are often left out of the ? list i think because the stars that play them all grown up are such a big profile for the whole film but these children are amazing and should be praised for what they have done don't you think the whole story was so lovely because it was true and was someone's life after all that was shared with us all\""
      ]
     },
     "execution_count": 9,
     "metadata": {},
     "output_type": "execute_result"
    }
   ],
   "source": [
    "decode_review"
   ]
  },
  {
   "cell_type": "code",
   "execution_count": 10,
   "metadata": {},
   "outputs": [],
   "source": [
    "def vectorize_sequences(sequences, dimension=10000):\n",
    "    results = np.zeros((len(sequences), dimension))\n",
    "    for idx, sequence in enumerate(sequences):\n",
    "        results[idx, sequence] = 1\n",
    "    return results"
   ]
  },
  {
   "cell_type": "code",
   "execution_count": 11,
   "metadata": {},
   "outputs": [],
   "source": [
    "x_train = vectorize_sequences(train_data)\n",
    "x_test = vectorize_sequences(test_data)"
   ]
  },
  {
   "cell_type": "code",
   "execution_count": 12,
   "metadata": {},
   "outputs": [],
   "source": [
    "y_train = np.asarray(train_labels).astype('float32')\n",
    "y_test = np.asarray(test_labels).astype('float32')"
   ]
  },
  {
   "cell_type": "code",
   "execution_count": 13,
   "metadata": {},
   "outputs": [],
   "source": [
    "model = models.Sequential()\n",
    "model.add(layers.Dense(16, activation='relu', input_shape=(10000,)))\n",
    "model.add(layers.Dense(16, activation='relu'))\n",
    "model.add(layers.Dense(1, activation='sigmoid'))"
   ]
  },
  {
   "cell_type": "code",
   "execution_count": 14,
   "metadata": {},
   "outputs": [],
   "source": [
    "model.compile(loss='binary_crossentropy', optimizer='rmsprop', metrics=['acc'])"
   ]
  },
  {
   "cell_type": "code",
   "execution_count": 15,
   "metadata": {},
   "outputs": [],
   "source": [
    "x_val = x_train[:10000]\n",
    "partial_x_train = x_train[10000:]\n",
    "\n",
    "y_val = y_train[:10000]\n",
    "partial_y_train = y_train[10000:]"
   ]
  },
  {
   "cell_type": "code",
   "execution_count": 16,
   "metadata": {},
   "outputs": [
    {
     "name": "stdout",
     "output_type": "stream",
     "text": [
      "Train on 15000 samples, validate on 10000 samples\n",
      "Epoch 1/20\n",
      "15000/15000 [==============================] - 2s 162us/step - loss: 0.5042 - acc: 0.7890 - val_loss: 0.3772 - val_acc: 0.8708\n",
      "Epoch 2/20\n",
      "15000/15000 [==============================] - 1s 77us/step - loss: 0.2990 - acc: 0.9046 - val_loss: 0.3003 - val_acc: 0.8897\n",
      "Epoch 3/20\n",
      "15000/15000 [==============================] - 1s 76us/step - loss: 0.2173 - acc: 0.9282 - val_loss: 0.3080 - val_acc: 0.8721\n",
      "Epoch 4/20\n",
      "15000/15000 [==============================] - 1s 76us/step - loss: 0.1748 - acc: 0.9433 - val_loss: 0.2823 - val_acc: 0.8851\n",
      "Epoch 5/20\n",
      "15000/15000 [==============================] - 1s 76us/step - loss: 0.1421 - acc: 0.9541 - val_loss: 0.2857 - val_acc: 0.8854\n",
      "Epoch 6/20\n",
      "15000/15000 [==============================] - 1s 77us/step - loss: 0.1148 - acc: 0.9653 - val_loss: 0.3124 - val_acc: 0.8790\n",
      "Epoch 7/20\n",
      "15000/15000 [==============================] - 1s 76us/step - loss: 0.0976 - acc: 0.9711 - val_loss: 0.3136 - val_acc: 0.8839\n",
      "Epoch 8/20\n",
      "15000/15000 [==============================] - 1s 80us/step - loss: 0.0805 - acc: 0.9765 - val_loss: 0.3858 - val_acc: 0.8656\n",
      "Epoch 9/20\n",
      "15000/15000 [==============================] - 1s 81us/step - loss: 0.0660 - acc: 0.9819 - val_loss: 0.3640 - val_acc: 0.8778\n",
      "Epoch 10/20\n",
      "15000/15000 [==============================] - 1s 78us/step - loss: 0.0554 - acc: 0.9852 - val_loss: 0.3852 - val_acc: 0.8786\n",
      "Epoch 11/20\n",
      "15000/15000 [==============================] - 1s 79us/step - loss: 0.0456 - acc: 0.9885 - val_loss: 0.4175 - val_acc: 0.8767\n",
      "Epoch 12/20\n",
      "15000/15000 [==============================] - 1s 77us/step - loss: 0.0385 - acc: 0.9911 - val_loss: 0.4516 - val_acc: 0.8701\n",
      "Epoch 13/20\n",
      "15000/15000 [==============================] - 1s 78us/step - loss: 0.0297 - acc: 0.9935 - val_loss: 0.4703 - val_acc: 0.8732\n",
      "Epoch 14/20\n",
      "15000/15000 [==============================] - 1s 77us/step - loss: 0.0244 - acc: 0.9950 - val_loss: 0.5016 - val_acc: 0.8725\n",
      "Epoch 15/20\n",
      "15000/15000 [==============================] - 1s 76us/step - loss: 0.0180 - acc: 0.9978 - val_loss: 0.5335 - val_acc: 0.8692\n",
      "Epoch 16/20\n",
      "15000/15000 [==============================] - 1s 80us/step - loss: 0.0167 - acc: 0.9973 - val_loss: 0.5709 - val_acc: 0.8692\n",
      "Epoch 17/20\n",
      "15000/15000 [==============================] - 1s 78us/step - loss: 0.0096 - acc: 0.9993 - val_loss: 0.6437 - val_acc: 0.8605\n",
      "Epoch 18/20\n",
      "15000/15000 [==============================] - 1s 83us/step - loss: 0.0092 - acc: 0.9993 - val_loss: 0.6552 - val_acc: 0.8639\n",
      "Epoch 19/20\n",
      "15000/15000 [==============================] - 1s 76us/step - loss: 0.0111 - acc: 0.9977 - val_loss: 0.6723 - val_acc: 0.8655\n",
      "Epoch 20/20\n",
      "15000/15000 [==============================] - 1s 75us/step - loss: 0.0041 - acc: 0.9998 - val_loss: 0.6965 - val_acc: 0.8663\n"
     ]
    }
   ],
   "source": [
    "history = model.fit(partial_x_train, partial_y_train, epochs=20, batch_size=512, validation_data=(x_val, y_val))"
   ]
  },
  {
   "cell_type": "code",
   "execution_count": 17,
   "metadata": {},
   "outputs": [],
   "source": [
    "history_dic = history.history"
   ]
  },
  {
   "cell_type": "code",
   "execution_count": 18,
   "metadata": {},
   "outputs": [
    {
     "data": {
      "text/plain": [
       "dict_keys(['val_loss', 'val_acc', 'loss', 'acc'])"
      ]
     },
     "execution_count": 18,
     "metadata": {},
     "output_type": "execute_result"
    }
   ],
   "source": [
    "history_dic.keys()"
   ]
  },
  {
   "cell_type": "code",
   "execution_count": 19,
   "metadata": {},
   "outputs": [],
   "source": [
    "loss_values = history_dic['loss']\n",
    "validation_loss_values = history_dic['val_loss']"
   ]
  },
  {
   "cell_type": "code",
   "execution_count": 22,
   "metadata": {},
   "outputs": [],
   "source": [
    "epochs = range(1, len(loss_values)+1)"
   ]
  },
  {
   "cell_type": "code",
   "execution_count": 23,
   "metadata": {},
   "outputs": [
    {
     "data": {
      "image/png": "[encoded data removed]",
      "text/plain": [
       "<Figure size 432x288 with 1 Axes>"
      ]
     },
     "metadata": {},
     "output_type": "display_data"
    }
   ],
   "source": [
    "plt.plot(epochs, loss_values, 'bo', label='Training loss')\n",
    "plt.plot(epochs, validation_loss_values, 'b', label='Validation loss')\n",
    "plt.title('Training and validation loss')\n",
    "plt.xlabel('Epochs')\n",
    "plt.ylabel('Loss')\n",
    "plt.legend()\n",
    "plt.show()"
   ]
  },
  {
   "cell_type": "code",
   "execution_count": 26,
   "metadata": {},
   "outputs": [
    {
     "data": {
      "image/png": "[encoded data removed]",
      "text/plain": [
       "<Figure size 432x288 with 1 Axes>"
      ]
     },
     "metadata": {},
     "output_type": "display_data"
    }
   ],
   "source": [
    "plt.clf()\n",
    "acc = history_dic['acc']\n",
    "val_acc = history_dic['val_acc']\n",
    "\n",
    "plt.plot(epochs, acc, 'bo', label='Training acc')\n",
    "plt.plot(epochs, val_acc, 'b', label='Validation acc')\n",
    "plt.title('Training and validation acc')\n",
    "plt.xlabel('Epochs')\n",
    "plt.ylabel('Acc')\n",
    "plt.legend()\n",
    "plt.show()"
   ]
  },
  {
   "cell_type": "code",
   "execution_count": 55,
   "metadata": {},
   "outputs": [
    {
     "name": "stdout",
     "output_type": "stream",
     "text": [
      "Train on 15000 samples, validate on 10000 samples\n",
      "Epoch 1/10\n",
      "15000/15000 [==============================] - 2s 151us/step - loss: 0.4758 - acc: 0.8019 - val_loss: 0.3569 - val_acc: 0.8707\n",
      "Epoch 2/10\n",
      "15000/15000 [==============================] - 1s 77us/step - loss: 0.2674 - acc: 0.9122 - val_loss: 0.2958 - val_acc: 0.8826\n",
      "Epoch 3/10\n",
      "15000/15000 [==============================] - 1s 77us/step - loss: 0.1887 - acc: 0.9381 - val_loss: 0.2951 - val_acc: 0.8772\n",
      "Epoch 4/10\n",
      "15000/15000 [==============================] - 1s 77us/step - loss: 0.1417 - acc: 0.9538 - val_loss: 0.2912 - val_acc: 0.8848\n",
      "Epoch 5/10\n",
      "15000/15000 [==============================] - 1s 77us/step - loss: 0.1165 - acc: 0.9613 - val_loss: 0.3778 - val_acc: 0.8624\n",
      "Epoch 6/10\n",
      "15000/15000 [==============================] - 1s 77us/step - loss: 0.0881 - acc: 0.9716 - val_loss: 0.3462 - val_acc: 0.8782\n",
      "Epoch 7/10\n",
      "15000/15000 [==============================] - 1s 77us/step - loss: 0.0639 - acc: 0.9807 - val_loss: 0.3937 - val_acc: 0.8733\n",
      "Epoch 8/10\n",
      "15000/15000 [==============================] - 1s 77us/step - loss: 0.0540 - acc: 0.9834 - val_loss: 0.4304 - val_acc: 0.8708\n",
      "Epoch 9/10\n",
      "15000/15000 [==============================] - 1s 76us/step - loss: 0.0428 - acc: 0.9881 - val_loss: 0.4745 - val_acc: 0.8726\n",
      "Epoch 10/10\n",
      "15000/15000 [==============================] - 1s 77us/step - loss: 0.0365 - acc: 0.9892 - val_loss: 0.5115 - val_acc: 0.8679\n"
     ]
    }
   ],
   "source": [
    "model = models.Sequential()\n",
    "model.add(layers.Dense(16, activation='tanh', input_shape=(10000,)))\n",
    "model.add(layers.Dense(16, activation='tanh'))\n",
    "model.add(layers.Dense(1, activation='sigmoid'))\n",
    "\n",
    "model.compile(loss='binary_crossentropy', optimizer='rmsprop', metrics=['acc'])\n",
    "\n",
    "history = model.fit(partial_x_train, partial_y_train, epochs=10, batch_size=512, validation_data=(x_val, y_val))"
   ]
  },
  {
   "cell_type": "code",
   "execution_count": 54,
   "metadata": {},
   "outputs": [
    {
     "data": {
      "image/png": "[encoded data removed]",
      "text/plain": [
       "<Figure size 432x288 with 1 Axes>"
      ]
     },
     "metadata": {},
     "output_type": "display_data"
    }
   ],
   "source": [
    "history_dic = history.history\n",
    "\n",
    "acc = history_dic['acc']\n",
    "val_acc = history_dic['val_acc']\n",
    "\n",
    "epochs = range(1, len(acc)+1)\n",
    "\n",
    "plt.plot(epochs, acc, 'bo', label='Training acc')\n",
    "plt.plot(epochs, val_acc, 'b', label='Validation acc')\n",
    "plt.title('Training and validation acc')\n",
    "plt.xlabel('Epochs')\n",
    "plt.ylabel('Acc')\n",
    "plt.legend()\n",
    "plt.show()"
   ]
  },
  {
   "cell_type": "code",
   "execution_count": 43,
   "metadata": {},
   "outputs": [
    {
     "name": "stdout",
     "output_type": "stream",
     "text": [
      "25000/25000 [==============================] - 1s 60us/step\n"
     ]
    },
    {
     "data": {
      "text/plain": [
       "[0.3390435329961777, 0.87468]"
      ]
     },
     "execution_count": 43,
     "metadata": {},
     "output_type": "execute_result"
    }
   ],
   "source": [
    "model.evaluate(x_test, y_test)"
   ]
  },
  {
   "cell_type": "code",
   "execution_count": 36,
   "metadata": {},
   "outputs": [
    {
     "data": {
      "text/plain": [
       "array([[0.21665841],\n",
       "       [0.9999639 ],\n",
       "       [0.84405494],\n",
       "       ...,\n",
       "       [0.11083884],\n",
       "       [0.07910497],\n",
       "       [0.50307596]], dtype=float32)"
      ]
     },
     "execution_count": 36,
     "metadata": {},
     "output_type": "execute_result"
    }
   ],
   "source": [
    "model.predict(x_test)"
   ]
  },
  {
   "cell_type": "code",
   "execution_count": null,
   "metadata": {},
   "outputs": [],
   "source": []
  }
 ],
 "metadata": {
  "kernelspec": {
   "display_name": "Python 3",
   "language": "python",
   "name": "python3"
  },
  "language_info": {
   "codemirror_mode": {
    "name": "ipython",
    "version": 3
   },
   "file_extension": ".py",
   "mimetype": "text/x-python",
   "name": "python",
   "nbconvert_exporter": "python",
   "pygments_lexer": "ipython3",
   "version": "3.6.4"
  }
 },
 "nbformat": 4,
 "nbformat_minor": 2
}
