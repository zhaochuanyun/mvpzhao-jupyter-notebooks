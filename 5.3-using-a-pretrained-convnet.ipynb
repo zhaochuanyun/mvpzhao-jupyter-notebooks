{
 "cells": [
  {
   "cell_type": "code",
   "execution_count": 1,
   "metadata": {},
   "outputs": [
    {
     "name": "stderr",
     "output_type": "stream",
     "text": [
      "/home/mvpzhao/anaconda3/lib/python3.6/site-packages/h5py/__init__.py:36: FutureWarning: Conversion of the second argument of issubdtype from `float` to `np.floating` is deprecated. In future, it will be treated as `np.float64 == np.dtype(float).type`.\n",
      "  from ._conv import register_converters as _register_converters\n",
      "Using TensorFlow backend.\n"
     ]
    }
   ],
   "source": [
    "import os\n",
    "os.environ[\"KMP_DUPLICATE_LIB_OK\"]=\"TRUE\"\n",
    "import shutil\n",
    "import numpy as np\n",
    "import keras\n",
    "from keras import models\n",
    "from keras import layers\n",
    "from keras.preprocessing.image import ImageDataGenerator"
   ]
  },
  {
   "cell_type": "code",
   "execution_count": 2,
   "metadata": {},
   "outputs": [],
   "source": [
    "from keras.applications import VGG16"
   ]
  },
  {
   "cell_type": "code",
   "execution_count": 3,
   "metadata": {},
   "outputs": [],
   "source": [
    "conv_base = VGG16(weights='imagenet', include_top=False, input_shape=(150, 150, 3))"
   ]
  },
  {
   "cell_type": "code",
   "execution_count": 4,
   "metadata": {},
   "outputs": [
    {
     "name": "stdout",
     "output_type": "stream",
     "text": [
      "_________________________________________________________________\n",
      "Layer (type)                 Output Shape              Param #   \n",
      "=================================================================\n",
      "input_1 (InputLayer)         (None, 150, 150, 3)       0         \n",
      "_________________________________________________________________\n",
      "block1_conv1 (Conv2D)        (None, 150, 150, 64)      1792      \n",
      "_________________________________________________________________\n",
      "block1_conv2 (Conv2D)        (None, 150, 150, 64)      36928     \n",
      "_________________________________________________________________\n",
      "block1_pool (MaxPooling2D)   (None, 75, 75, 64)        0         \n",
      "_________________________________________________________________\n",
      "block2_conv1 (Conv2D)        (None, 75, 75, 128)       73856     \n",
      "_________________________________________________________________\n",
      "block2_conv2 (Conv2D)        (None, 75, 75, 128)       147584    \n",
      "_________________________________________________________________\n",
      "block2_pool (MaxPooling2D)   (None, 37, 37, 128)       0         \n",
      "_________________________________________________________________\n",
      "block3_conv1 (Conv2D)        (None, 37, 37, 256)       295168    \n",
      "_________________________________________________________________\n",
      "block3_conv2 (Conv2D)        (None, 37, 37, 256)       590080    \n",
      "_________________________________________________________________\n",
      "block3_conv3 (Conv2D)        (None, 37, 37, 256)       590080    \n",
      "_________________________________________________________________\n",
      "block3_pool (MaxPooling2D)   (None, 18, 18, 256)       0         \n",
      "_________________________________________________________________\n",
      "block4_conv1 (Conv2D)        (None, 18, 18, 512)       1180160   \n",
      "_________________________________________________________________\n",
      "block4_conv2 (Conv2D)        (None, 18, 18, 512)       2359808   \n",
      "_________________________________________________________________\n",
      "block4_conv3 (Conv2D)        (None, 18, 18, 512)       2359808   \n",
      "_________________________________________________________________\n",
      "block4_pool (MaxPooling2D)   (None, 9, 9, 512)         0         \n",
      "_________________________________________________________________\n",
      "block5_conv1 (Conv2D)        (None, 9, 9, 512)         2359808   \n",
      "_________________________________________________________________\n",
      "block5_conv2 (Conv2D)        (None, 9, 9, 512)         2359808   \n",
      "_________________________________________________________________\n",
      "block5_conv3 (Conv2D)        (None, 9, 9, 512)         2359808   \n",
      "_________________________________________________________________\n",
      "block5_pool (MaxPooling2D)   (None, 4, 4, 512)         0         \n",
      "=================================================================\n",
      "Total params: 14,714,688\n",
      "Trainable params: 14,714,688\n",
      "Non-trainable params: 0\n",
      "_________________________________________________________________\n"
     ]
    }
   ],
   "source": [
    "conv_base.summary()"
   ]
  },
  {
   "cell_type": "code",
   "execution_count": 5,
   "metadata": {},
   "outputs": [],
   "source": [
    "base_dir = '/home/mvpzhao/tools/data/extract/cats_dogs_small'\n",
    "\n",
    "train_dir = os.path.join(base_dir, 'train')\n",
    "validation_dir = os.path.join(base_dir, 'validation')\n",
    "test_dir = os.path.join(base_dir, 'test')\n",
    "\n",
    "datagen = ImageDataGenerator(rescale=1./255)\n",
    "\n",
    "batch_size = 20"
   ]
  },
  {
   "cell_type": "code",
   "execution_count": 6,
   "metadata": {},
   "outputs": [],
   "source": [
    "def extract_features(directory, sample_count):\n",
    "    features = np.zeros((sample_count, 4, 4, 512))\n",
    "    labels = np.zeros((sample_count))\n",
    "    generator = datagen.flow_from_directory(\n",
    "        directory, \n",
    "        target_size=(150, 150), \n",
    "        batch_size=batch_size, \n",
    "        class_mode='binary')\n",
    "    i = 0\n",
    "    for inputs_batch, labels_batch in generator:\n",
    "        features_batch = conv_base.predict(inputs_batch)\n",
    "        features[i*batch_size: (i+1)*batch_size] = features_batch\n",
    "        labels[i*batch_size: (i+1)*batch_size] = labels_batch\n",
    "        i += 1\n",
    "        if i*batch_size >= sample_count:\n",
    "            break\n",
    "    return features, labels"
   ]
  },
  {
   "cell_type": "code",
   "execution_count": 7,
   "metadata": {},
   "outputs": [
    {
     "name": "stdout",
     "output_type": "stream",
     "text": [
      "Found 2000 images belonging to 2 classes.\n",
      "Found 1000 images belonging to 2 classes.\n",
      "Found 1000 images belonging to 2 classes.\n"
     ]
    }
   ],
   "source": [
    "train_features, train_labels = extract_features(train_dir, 2000)\n",
    "validation_features, validation_labels = extract_features(validation_dir, 1000)\n",
    "test_features, test_labels = extract_features(test_dir, 1000)"
   ]
  },
  {
   "cell_type": "code",
   "execution_count": 8,
   "metadata": {},
   "outputs": [],
   "source": [
    "train_features = np.reshape(train_features, (2000, 4 * 4 * 512))\n",
    "validation_features = np.reshape(validation_features, (1000, 4 * 4 * 512))\n",
    "test_features = np.reshape(test_features, (1000, 4 * 4 * 512))"
   ]
  },
  {
   "cell_type": "code",
   "execution_count": 9,
   "metadata": {},
   "outputs": [],
   "source": [
    "from keras import optimizers"
   ]
  },
  {
   "cell_type": "code",
   "execution_count": 10,
   "metadata": {},
   "outputs": [],
   "source": [
    "model = models.Sequential()\n",
    "model.add(layers.Dense(512, activation='relu', input_dim=(4 * 4 * 512)))\n",
    "model.add(layers.Dropout(0.5))\n",
    "model.add(layers.Dense(1, activation='sigmoid'))"
   ]
  },
  {
   "cell_type": "code",
   "execution_count": 11,
   "metadata": {},
   "outputs": [],
   "source": [
    "model.compile(loss='binary_crossentropy', optimizer=optimizers.RMSprop(2e-5), metrics=['acc'])"
   ]
  },
  {
   "cell_type": "code",
   "execution_count": 12,
   "metadata": {},
   "outputs": [
    {
     "name": "stdout",
     "output_type": "stream",
     "text": [
      "Train on 2000 samples, validate on 1000 samples\n",
      "Epoch 1/30\n",
      "2000/2000 [==============================] - 0s 218us/step - loss: 0.6537 - acc: 0.6280 - val_loss: 0.5019 - val_acc: 0.8130\n",
      "Epoch 2/30\n",
      "2000/2000 [==============================] - 0s 59us/step - loss: 0.5138 - acc: 0.7600 - val_loss: 0.4347 - val_acc: 0.8470\n",
      "Epoch 3/30\n",
      "2000/2000 [==============================] - 0s 58us/step - loss: 0.4422 - acc: 0.8020 - val_loss: 0.3958 - val_acc: 0.8440\n",
      "Epoch 4/30\n",
      "2000/2000 [==============================] - 0s 58us/step - loss: 0.4065 - acc: 0.8140 - val_loss: 0.3635 - val_acc: 0.8670\n",
      "Epoch 5/30\n",
      "2000/2000 [==============================] - 0s 59us/step - loss: 0.3612 - acc: 0.8370 - val_loss: 0.3424 - val_acc: 0.8680\n",
      "Epoch 6/30\n",
      "2000/2000 [==============================] - 0s 57us/step - loss: 0.3391 - acc: 0.8535 - val_loss: 0.3286 - val_acc: 0.8720\n",
      "Epoch 7/30\n",
      "2000/2000 [==============================] - 0s 59us/step - loss: 0.3145 - acc: 0.8770 - val_loss: 0.3122 - val_acc: 0.8780\n",
      "Epoch 8/30\n",
      "2000/2000 [==============================] - 0s 59us/step - loss: 0.2955 - acc: 0.8830 - val_loss: 0.3022 - val_acc: 0.8850\n",
      "Epoch 9/30\n",
      "2000/2000 [==============================] - 0s 57us/step - loss: 0.2806 - acc: 0.8890 - val_loss: 0.2957 - val_acc: 0.8820\n",
      "Epoch 10/30\n",
      "2000/2000 [==============================] - 0s 61us/step - loss: 0.2661 - acc: 0.8945 - val_loss: 0.2876 - val_acc: 0.8860\n",
      "Epoch 11/30\n",
      "2000/2000 [==============================] - 0s 59us/step - loss: 0.2624 - acc: 0.8955 - val_loss: 0.2886 - val_acc: 0.8860\n",
      "Epoch 12/30\n",
      "2000/2000 [==============================] - 0s 62us/step - loss: 0.2384 - acc: 0.9130 - val_loss: 0.2758 - val_acc: 0.8920\n",
      "Epoch 13/30\n",
      "2000/2000 [==============================] - 0s 58us/step - loss: 0.2310 - acc: 0.9145 - val_loss: 0.2848 - val_acc: 0.8810\n",
      "Epoch 14/30\n",
      "2000/2000 [==============================] - 0s 56us/step - loss: 0.2264 - acc: 0.9130 - val_loss: 0.2725 - val_acc: 0.8940\n",
      "Epoch 15/30\n",
      "2000/2000 [==============================] - 0s 60us/step - loss: 0.2244 - acc: 0.9165 - val_loss: 0.2636 - val_acc: 0.8980\n",
      "Epoch 16/30\n",
      "2000/2000 [==============================] - 0s 58us/step - loss: 0.2097 - acc: 0.9230 - val_loss: 0.2648 - val_acc: 0.8940\n",
      "Epoch 17/30\n",
      "2000/2000 [==============================] - 0s 59us/step - loss: 0.2042 - acc: 0.9255 - val_loss: 0.2576 - val_acc: 0.9010\n",
      "Epoch 18/30\n",
      "2000/2000 [==============================] - 0s 60us/step - loss: 0.1981 - acc: 0.9250 - val_loss: 0.2546 - val_acc: 0.8900\n",
      "Epoch 19/30\n",
      "2000/2000 [==============================] - 0s 58us/step - loss: 0.1896 - acc: 0.9300 - val_loss: 0.2584 - val_acc: 0.8950\n",
      "Epoch 20/30\n",
      "2000/2000 [==============================] - 0s 58us/step - loss: 0.1914 - acc: 0.9330 - val_loss: 0.2509 - val_acc: 0.8970\n",
      "Epoch 21/30\n",
      "2000/2000 [==============================] - 0s 58us/step - loss: 0.1741 - acc: 0.9395 - val_loss: 0.2536 - val_acc: 0.8960\n",
      "Epoch 22/30\n",
      "2000/2000 [==============================] - 0s 58us/step - loss: 0.1769 - acc: 0.9410 - val_loss: 0.2474 - val_acc: 0.8970\n",
      "Epoch 23/30\n",
      "2000/2000 [==============================] - 0s 62us/step - loss: 0.1678 - acc: 0.9425 - val_loss: 0.2542 - val_acc: 0.9000\n",
      "Epoch 24/30\n",
      "2000/2000 [==============================] - 0s 59us/step - loss: 0.1602 - acc: 0.9455 - val_loss: 0.2518 - val_acc: 0.8970\n",
      "Epoch 25/30\n",
      "2000/2000 [==============================] - 0s 59us/step - loss: 0.1594 - acc: 0.9465 - val_loss: 0.2445 - val_acc: 0.8990\n",
      "Epoch 26/30\n",
      "2000/2000 [==============================] - 0s 60us/step - loss: 0.1558 - acc: 0.9520 - val_loss: 0.2427 - val_acc: 0.8990\n",
      "Epoch 27/30\n",
      "2000/2000 [==============================] - 0s 60us/step - loss: 0.1516 - acc: 0.9505 - val_loss: 0.2426 - val_acc: 0.8960\n",
      "Epoch 28/30\n",
      "2000/2000 [==============================] - 0s 61us/step - loss: 0.1465 - acc: 0.9540 - val_loss: 0.2420 - val_acc: 0.8950\n",
      "Epoch 29/30\n",
      "2000/2000 [==============================] - 0s 63us/step - loss: 0.1393 - acc: 0.9540 - val_loss: 0.2482 - val_acc: 0.8950\n",
      "Epoch 30/30\n",
      "2000/2000 [==============================] - 0s 62us/step - loss: 0.1318 - acc: 0.9630 - val_loss: 0.2460 - val_acc: 0.8980\n"
     ]
    }
   ],
   "source": [
    "history = model.fit(train_features, train_labels, epochs=30, batch_size=128, validation_data=(validation_features, validation_labels))"
   ]
  },
  {
   "cell_type": "code",
   "execution_count": 15,
   "metadata": {},
   "outputs": [
    {
     "data": {
      "image/png": "[encoded data removed]",
      "text/plain": [
       "<Figure size 432x288 with 1 Axes>"
      ]
     },
     "metadata": {},
     "output_type": "display_data"
    },
    {
     "data": {
      "image/png": "[encoded data removed]",
      "text/plain": [
       "<Figure size 432x288 with 1 Axes>"
      ]
     },
     "metadata": {},
     "output_type": "display_data"
    }
   ],
   "source": [
    "import matplotlib.pyplot as plt\n",
    "\n",
    "acc = history.history['acc']\n",
    "val_acc = history.history['val_acc']\n",
    "loss = history.history['loss']\n",
    "val_loss = history.history['val_loss']\n",
    "\n",
    "epochs = range(len(acc))\n",
    "\n",
    "plt.plot(epochs, acc, 'bo', label='Training acc')\n",
    "plt.plot(epochs, val_acc, 'b', label='Validation acc')\n",
    "plt.title('Training and validation accuracy')\n",
    "plt.legend()\n",
    "\n",
    "plt.figure()\n",
    "\n",
    "plt.plot(epochs, loss, 'bo', label='Training loss')\n",
    "plt.plot(epochs, val_loss, 'b', label='Validation loss')\n",
    "plt.title('Training and validation loss')\n",
    "plt.legend()\n",
    "\n",
    "plt.show()"
   ]
  },
  {
   "cell_type": "code",
   "execution_count": 16,
   "metadata": {},
   "outputs": [],
   "source": [
    "from keras import models\n",
    "from keras import layers\n",
    "\n",
    "conv_base = VGG16(weights='imagenet', include_top=False, input_shape=(150, 150, 3))\n",
    "\n",
    "model = models.Sequential()\n",
    "model.add(conv_base)\n",
    "model.add(layers.Flatten())\n",
    "model.add(layers.Dense(256, activation='relu'))\n",
    "model.add(layers.Dense(1, activation='sigmoid'))"
   ]
  },
  {
   "cell_type": "code",
   "execution_count": 17,
   "metadata": {},
   "outputs": [
    {
     "name": "stdout",
     "output_type": "stream",
     "text": [
      "_________________________________________________________________\n",
      "Layer (type)                 Output Shape              Param #   \n",
      "=================================================================\n",
      "vgg16 (Model)                (None, 4, 4, 512)         14714688  \n",
      "_________________________________________________________________\n",
      "flatten_2 (Flatten)          (None, 8192)              0         \n",
      "_________________________________________________________________\n",
      "dense_5 (Dense)              (None, 256)               2097408   \n",
      "_________________________________________________________________\n",
      "dense_6 (Dense)              (None, 1)                 257       \n",
      "=================================================================\n",
      "Total params: 16,812,353\n",
      "Trainable params: 16,812,353\n",
      "Non-trainable params: 0\n",
      "_________________________________________________________________\n"
     ]
    }
   ],
   "source": [
    "model.summary()"
   ]
  },
  {
   "cell_type": "code",
   "execution_count": 18,
   "metadata": {},
   "outputs": [
    {
     "name": "stdout",
     "output_type": "stream",
     "text": [
      "This is the number of trainable weights before freezing the conv base: 30\n"
     ]
    }
   ],
   "source": [
    "print('This is the number of trainable weights '\n",
    "      'before freezing the conv base:', len(model.trainable_weights))"
   ]
  },
  {
   "cell_type": "code",
   "execution_count": 19,
   "metadata": {},
   "outputs": [],
   "source": [
    "conv_base.trainable = False"
   ]
  },
  {
   "cell_type": "code",
   "execution_count": 20,
   "metadata": {},
   "outputs": [
    {
     "name": "stdout",
     "output_type": "stream",
     "text": [
      "This is the number of trainable weights after freezing the conv base: 4\n"
     ]
    }
   ],
   "source": [
    "print('This is the number of trainable weights '\n",
    "      'after freezing the conv base:', len(model.trainable_weights))"
   ]
  },
  {
   "cell_type": "code",
   "execution_count": 21,
   "metadata": {},
   "outputs": [
    {
     "name": "stdout",
     "output_type": "stream",
     "text": [
      "Found 2000 images belonging to 2 classes.\n",
      "Found 1000 images belonging to 2 classes.\n",
      "Epoch 1/30\n",
      " - 10s - loss: 0.5846 - acc: 0.7025 - val_loss: 0.4497 - val_acc: 0.8100\n",
      "Epoch 2/30\n",
      " - 9s - loss: 0.4657 - acc: 0.7955 - val_loss: 0.3780 - val_acc: 0.8400\n",
      "Epoch 3/30\n",
      " - 9s - loss: 0.4205 - acc: 0.8145 - val_loss: 0.3179 - val_acc: 0.8730\n",
      "Epoch 4/30\n",
      " - 9s - loss: 0.4029 - acc: 0.8215 - val_loss: 0.3080 - val_acc: 0.8770\n",
      "Epoch 5/30\n",
      " - 9s - loss: 0.3855 - acc: 0.8390 - val_loss: 0.2975 - val_acc: 0.8820\n",
      "Epoch 6/30\n",
      " - 9s - loss: 0.3713 - acc: 0.8350 - val_loss: 0.2767 - val_acc: 0.8850\n",
      "Epoch 7/30\n",
      " - 9s - loss: 0.3753 - acc: 0.8305 - val_loss: 0.2722 - val_acc: 0.8920\n",
      "Epoch 8/30\n",
      " - 9s - loss: 0.3518 - acc: 0.8470 - val_loss: 0.2720 - val_acc: 0.8870\n",
      "Epoch 9/30\n",
      " - 9s - loss: 0.3474 - acc: 0.8445 - val_loss: 0.2613 - val_acc: 0.8900\n",
      "Epoch 10/30\n",
      " - 9s - loss: 0.3293 - acc: 0.8540 - val_loss: 0.2551 - val_acc: 0.8980\n",
      "Epoch 11/30\n",
      " - 9s - loss: 0.3302 - acc: 0.8555 - val_loss: 0.2500 - val_acc: 0.8890\n",
      "Epoch 12/30\n",
      " - 9s - loss: 0.3384 - acc: 0.8520 - val_loss: 0.2752 - val_acc: 0.8870\n",
      "Epoch 13/30\n",
      " - 9s - loss: 0.3146 - acc: 0.8610 - val_loss: 0.2485 - val_acc: 0.8950\n",
      "Epoch 14/30\n",
      " - 9s - loss: 0.3062 - acc: 0.8645 - val_loss: 0.2449 - val_acc: 0.8930\n",
      "Epoch 15/30\n",
      " - 9s - loss: 0.3192 - acc: 0.8660 - val_loss: 0.2544 - val_acc: 0.8940\n",
      "Epoch 16/30\n",
      " - 9s - loss: 0.3000 - acc: 0.8675 - val_loss: 0.2493 - val_acc: 0.8920\n",
      "Epoch 17/30\n",
      " - 9s - loss: 0.3100 - acc: 0.8635 - val_loss: 0.2437 - val_acc: 0.9010\n",
      "Epoch 18/30\n",
      " - 9s - loss: 0.3025 - acc: 0.8680 - val_loss: 0.2499 - val_acc: 0.8940\n",
      "Epoch 19/30\n",
      " - 9s - loss: 0.2983 - acc: 0.8575 - val_loss: 0.2356 - val_acc: 0.8970\n",
      "Epoch 20/30\n",
      " - 9s - loss: 0.2937 - acc: 0.8720 - val_loss: 0.2495 - val_acc: 0.8960\n",
      "Epoch 21/30\n",
      " - 9s - loss: 0.2976 - acc: 0.8730 - val_loss: 0.2386 - val_acc: 0.9030\n",
      "Epoch 22/30\n",
      " - 9s - loss: 0.2928 - acc: 0.8765 - val_loss: 0.2459 - val_acc: 0.8950\n",
      "Epoch 23/30\n",
      " - 9s - loss: 0.2844 - acc: 0.8675 - val_loss: 0.2392 - val_acc: 0.9060\n",
      "Epoch 24/30\n",
      " - 9s - loss: 0.2870 - acc: 0.8820 - val_loss: 0.2376 - val_acc: 0.9090\n",
      "Epoch 25/30\n",
      " - 9s - loss: 0.2996 - acc: 0.8760 - val_loss: 0.2384 - val_acc: 0.9080\n",
      "Epoch 26/30\n",
      " - 9s - loss: 0.2923 - acc: 0.8740 - val_loss: 0.2384 - val_acc: 0.9120\n",
      "Epoch 27/30\n",
      " - 9s - loss: 0.2755 - acc: 0.8845 - val_loss: 0.2489 - val_acc: 0.9040\n",
      "Epoch 28/30\n",
      " - 9s - loss: 0.2833 - acc: 0.8745 - val_loss: 0.2434 - val_acc: 0.9050\n",
      "Epoch 29/30\n",
      " - 9s - loss: 0.2837 - acc: 0.8725 - val_loss: 0.2341 - val_acc: 0.8970\n",
      "Epoch 30/30\n",
      " - 9s - loss: 0.2772 - acc: 0.8870 - val_loss: 0.2303 - val_acc: 0.9010\n"
     ]
    }
   ],
   "source": [
    "from keras.preprocessing.image import ImageDataGenerator\n",
    "\n",
    "train_datagen = ImageDataGenerator(\n",
    "      rescale=1./255,\n",
    "      rotation_range=40,\n",
    "      width_shift_range=0.2,\n",
    "      height_shift_range=0.2,\n",
    "      shear_range=0.2,\n",
    "      zoom_range=0.2,\n",
    "      horizontal_flip=True,\n",
    "      fill_mode='nearest')\n",
    "\n",
    "# Note that the validation data should not be augmented!\n",
    "test_datagen = ImageDataGenerator(rescale=1./255)\n",
    "\n",
    "train_generator = train_datagen.flow_from_directory(\n",
    "        # This is the target directory\n",
    "        train_dir,\n",
    "        # All images will be resized to 150x150\n",
    "        target_size=(150, 150),\n",
    "        batch_size=20,\n",
    "        # Since we use binary_crossentropy loss, we need binary labels\n",
    "        class_mode='binary')\n",
    "\n",
    "validation_generator = test_datagen.flow_from_directory(\n",
    "        validation_dir,\n",
    "        target_size=(150, 150),\n",
    "        batch_size=20,\n",
    "        class_mode='binary')\n",
    "\n",
    "model.compile(loss='binary_crossentropy',\n",
    "              optimizer=optimizers.RMSprop(lr=2e-5),\n",
    "              metrics=['acc'])\n",
    "\n",
    "history = model.fit_generator(\n",
    "      train_generator,\n",
    "      steps_per_epoch=100,\n",
    "      epochs=30,\n",
    "      validation_data=validation_generator,\n",
    "      validation_steps=50,\n",
    "      verbose=2)"
   ]
  },
  {
   "cell_type": "code",
   "execution_count": 22,
   "metadata": {},
   "outputs": [],
   "source": [
    "model.save('cats_and_dogs_small_3.h5')"
   ]
  },
  {
   "cell_type": "code",
   "execution_count": 23,
   "metadata": {},
   "outputs": [
    {
     "data": {
      "image/png": "[encoded data removed]",
      "text/plain": [
       "<Figure size 432x288 with 1 Axes>"
      ]
     },
     "metadata": {},
     "output_type": "display_data"
    },
    {
     "data": {
      "image/png": "[encoded data removed]",
      "text/plain": [
       "<Figure size 432x288 with 1 Axes>"
      ]
     },
     "metadata": {},
     "output_type": "display_data"
    }
   ],
   "source": [
    "acc = history.history['acc']\n",
    "val_acc = history.history['val_acc']\n",
    "loss = history.history['loss']\n",
    "val_loss = history.history['val_loss']\n",
    "\n",
    "epochs = range(len(acc))\n",
    "\n",
    "plt.plot(epochs, acc, 'bo', label='Training acc')\n",
    "plt.plot(epochs, val_acc, 'b', label='Validation acc')\n",
    "plt.title('Training and validation accuracy')\n",
    "plt.legend()\n",
    "\n",
    "plt.figure()\n",
    "\n",
    "plt.plot(epochs, loss, 'bo', label='Training loss')\n",
    "plt.plot(epochs, val_loss, 'b', label='Validation loss')\n",
    "plt.title('Training and validation loss')\n",
    "plt.legend()\n",
    "\n",
    "plt.show()"
   ]
  },
  {
   "cell_type": "code",
   "execution_count": 24,
   "metadata": {},
   "outputs": [
    {
     "name": "stdout",
     "output_type": "stream",
     "text": [
      "_________________________________________________________________\n",
      "Layer (type)                 Output Shape              Param #   \n",
      "=================================================================\n",
      "input_3 (InputLayer)         (None, 150, 150, 3)       0         \n",
      "_________________________________________________________________\n",
      "block1_conv1 (Conv2D)        (None, 150, 150, 64)      1792      \n",
      "_________________________________________________________________\n",
      "block1_conv2 (Conv2D)        (None, 150, 150, 64)      36928     \n",
      "_________________________________________________________________\n",
      "block1_pool (MaxPooling2D)   (None, 75, 75, 64)        0         \n",
      "_________________________________________________________________\n",
      "block2_conv1 (Conv2D)        (None, 75, 75, 128)       73856     \n",
      "_________________________________________________________________\n",
      "block2_conv2 (Conv2D)        (None, 75, 75, 128)       147584    \n",
      "_________________________________________________________________\n",
      "block2_pool (MaxPooling2D)   (None, 37, 37, 128)       0         \n",
      "_________________________________________________________________\n",
      "block3_conv1 (Conv2D)        (None, 37, 37, 256)       295168    \n",
      "_________________________________________________________________\n",
      "block3_conv2 (Conv2D)        (None, 37, 37, 256)       590080    \n",
      "_________________________________________________________________\n",
      "block3_conv3 (Conv2D)        (None, 37, 37, 256)       590080    \n",
      "_________________________________________________________________\n",
      "block3_pool (MaxPooling2D)   (None, 18, 18, 256)       0         \n",
      "_________________________________________________________________\n",
      "block4_conv1 (Conv2D)        (None, 18, 18, 512)       1180160   \n",
      "_________________________________________________________________\n",
      "block4_conv2 (Conv2D)        (None, 18, 18, 512)       2359808   \n",
      "_________________________________________________________________\n",
      "block4_conv3 (Conv2D)        (None, 18, 18, 512)       2359808   \n",
      "_________________________________________________________________\n",
      "block4_pool (MaxPooling2D)   (None, 9, 9, 512)         0         \n",
      "_________________________________________________________________\n",
      "block5_conv1 (Conv2D)        (None, 9, 9, 512)         2359808   \n",
      "_________________________________________________________________\n",
      "block5_conv2 (Conv2D)        (None, 9, 9, 512)         2359808   \n",
      "_________________________________________________________________\n",
      "block5_conv3 (Conv2D)        (None, 9, 9, 512)         2359808   \n",
      "_________________________________________________________________\n",
      "block5_pool (MaxPooling2D)   (None, 4, 4, 512)         0         \n",
      "=================================================================\n",
      "Total params: 14,714,688\n",
      "Trainable params: 0\n",
      "Non-trainable params: 14,714,688\n",
      "_________________________________________________________________\n"
     ]
    }
   ],
   "source": [
    "conv_base.summary()"
   ]
  },
  {
   "cell_type": "code",
   "execution_count": 25,
   "metadata": {},
   "outputs": [],
   "source": [
    "conv_base.trainable = True\n",
    "\n",
    "set_trainable = False\n",
    "for layer in conv_base.layers:\n",
    "    if layer.name == 'block5_conv1':\n",
    "        set_trainable = True\n",
    "    if set_trainable:\n",
    "        layer.trainable = True\n",
    "    else:\n",
    "        layer.trainable = False"
   ]
  },
  {
   "cell_type": "code",
   "execution_count": 26,
   "metadata": {},
   "outputs": [
    {
     "name": "stdout",
     "output_type": "stream",
     "text": [
      "Epoch 1/100\n",
      "100/100 [==============================] - 10s 99ms/step - loss: 0.2952 - acc: 0.8765 - val_loss: 0.2116 - val_acc: 0.9090\n",
      "Epoch 2/100\n",
      "100/100 [==============================] - 9s 90ms/step - loss: 0.2721 - acc: 0.8805 - val_loss: 0.2383 - val_acc: 0.9040\n",
      "Epoch 3/100\n",
      "100/100 [==============================] - 9s 90ms/step - loss: 0.2329 - acc: 0.9010 - val_loss: 0.2151 - val_acc: 0.9110\n",
      "Epoch 4/100\n",
      "100/100 [==============================] - 9s 90ms/step - loss: 0.2127 - acc: 0.9135 - val_loss: 0.2191 - val_acc: 0.9160\n",
      "Epoch 5/100\n",
      "100/100 [==============================] - 9s 89ms/step - loss: 0.1940 - acc: 0.9220 - val_loss: 0.1725 - val_acc: 0.9330\n",
      "Epoch 6/100\n",
      "100/100 [==============================] - 9s 90ms/step - loss: 0.1972 - acc: 0.9160 - val_loss: 0.1881 - val_acc: 0.9230\n",
      "Epoch 7/100\n",
      "100/100 [==============================] - 9s 90ms/step - loss: 0.1772 - acc: 0.9250 - val_loss: 0.2056 - val_acc: 0.9300\n",
      "Epoch 8/100\n",
      "100/100 [==============================] - 9s 90ms/step - loss: 0.1648 - acc: 0.9330 - val_loss: 0.2022 - val_acc: 0.9310\n",
      "Epoch 9/100\n",
      "100/100 [==============================] - 9s 90ms/step - loss: 0.1602 - acc: 0.9360 - val_loss: 0.1912 - val_acc: 0.9280\n",
      "Epoch 10/100\n",
      "100/100 [==============================] - 9s 91ms/step - loss: 0.1514 - acc: 0.9415 - val_loss: 0.2150 - val_acc: 0.9260\n",
      "Epoch 11/100\n",
      "100/100 [==============================] - 9s 90ms/step - loss: 0.1587 - acc: 0.9310 - val_loss: 0.1744 - val_acc: 0.9360\n",
      "Epoch 12/100\n",
      "100/100 [==============================] - 9s 92ms/step - loss: 0.1443 - acc: 0.9430 - val_loss: 0.2217 - val_acc: 0.9220\n",
      "Epoch 13/100\n",
      "100/100 [==============================] - 9s 90ms/step - loss: 0.1486 - acc: 0.9410 - val_loss: 0.2312 - val_acc: 0.9120\n",
      "Epoch 14/100\n",
      "100/100 [==============================] - 9s 91ms/step - loss: 0.1343 - acc: 0.9530 - val_loss: 0.1808 - val_acc: 0.9410\n",
      "Epoch 15/100\n",
      "100/100 [==============================] - 9s 90ms/step - loss: 0.1047 - acc: 0.9595 - val_loss: 0.1640 - val_acc: 0.9470\n",
      "Epoch 16/100\n",
      "100/100 [==============================] - 9s 91ms/step - loss: 0.1211 - acc: 0.9475 - val_loss: 0.2006 - val_acc: 0.9310\n",
      "Epoch 17/100\n",
      "100/100 [==============================] - 9s 90ms/step - loss: 0.0972 - acc: 0.9625 - val_loss: 0.2244 - val_acc: 0.9260\n",
      "Epoch 18/100\n",
      "100/100 [==============================] - 9s 90ms/step - loss: 0.1070 - acc: 0.9620 - val_loss: 0.1864 - val_acc: 0.9350\n",
      "Epoch 19/100\n",
      "100/100 [==============================] - 9s 90ms/step - loss: 0.0962 - acc: 0.9620 - val_loss: 0.1799 - val_acc: 0.9400\n",
      "Epoch 20/100\n",
      "100/100 [==============================] - 9s 90ms/step - loss: 0.0993 - acc: 0.9585 - val_loss: 0.2527 - val_acc: 0.9240\n",
      "Epoch 21/100\n",
      "100/100 [==============================] - 9s 91ms/step - loss: 0.1047 - acc: 0.9655 - val_loss: 0.1632 - val_acc: 0.9320\n",
      "Epoch 22/100\n",
      "100/100 [==============================] - 9s 90ms/step - loss: 0.0923 - acc: 0.9630 - val_loss: 0.1693 - val_acc: 0.9340\n",
      "Epoch 23/100\n",
      "100/100 [==============================] - 9s 90ms/step - loss: 0.0862 - acc: 0.9675 - val_loss: 0.2085 - val_acc: 0.9320\n",
      "Epoch 24/100\n",
      "100/100 [==============================] - 9s 90ms/step - loss: 0.0716 - acc: 0.9720 - val_loss: 0.1973 - val_acc: 0.9360\n",
      "Epoch 25/100\n",
      "100/100 [==============================] - 9s 90ms/step - loss: 0.0753 - acc: 0.9690 - val_loss: 0.2135 - val_acc: 0.9350\n",
      "Epoch 26/100\n",
      "100/100 [==============================] - 9s 90ms/step - loss: 0.0850 - acc: 0.9660 - val_loss: 0.2074 - val_acc: 0.9300\n",
      "Epoch 27/100\n",
      "100/100 [==============================] - 9s 90ms/step - loss: 0.0714 - acc: 0.9770 - val_loss: 0.3918 - val_acc: 0.8960\n",
      "Epoch 28/100\n",
      "100/100 [==============================] - 9s 90ms/step - loss: 0.0643 - acc: 0.9770 - val_loss: 0.2210 - val_acc: 0.9260\n",
      "Epoch 29/100\n",
      "100/100 [==============================] - 9s 90ms/step - loss: 0.0618 - acc: 0.9770 - val_loss: 0.2243 - val_acc: 0.9310\n",
      "Epoch 30/100\n",
      "100/100 [==============================] - 9s 89ms/step - loss: 0.0721 - acc: 0.9750 - val_loss: 0.1764 - val_acc: 0.9290\n",
      "Epoch 31/100\n",
      "100/100 [==============================] - 9s 90ms/step - loss: 0.0679 - acc: 0.9735 - val_loss: 0.2168 - val_acc: 0.9390\n",
      "Epoch 32/100\n",
      "100/100 [==============================] - 9s 91ms/step - loss: 0.0617 - acc: 0.9775 - val_loss: 0.2570 - val_acc: 0.9200\n",
      "Epoch 33/100\n",
      "100/100 [==============================] - 9s 90ms/step - loss: 0.0610 - acc: 0.9785 - val_loss: 0.2409 - val_acc: 0.9370\n",
      "Epoch 34/100\n",
      "100/100 [==============================] - 9s 90ms/step - loss: 0.0604 - acc: 0.9760 - val_loss: 0.1882 - val_acc: 0.9340\n",
      "Epoch 35/100\n",
      "100/100 [==============================] - 9s 90ms/step - loss: 0.0596 - acc: 0.9770 - val_loss: 0.2416 - val_acc: 0.9380\n",
      "Epoch 36/100\n",
      "100/100 [==============================] - 9s 89ms/step - loss: 0.0759 - acc: 0.9735 - val_loss: 0.1831 - val_acc: 0.9310\n",
      "Epoch 37/100\n",
      "100/100 [==============================] - 9s 89ms/step - loss: 0.0480 - acc: 0.9820 - val_loss: 0.2465 - val_acc: 0.9280\n",
      "Epoch 38/100\n",
      "100/100 [==============================] - 9s 90ms/step - loss: 0.0563 - acc: 0.9830 - val_loss: 0.1997 - val_acc: 0.9470\n",
      "Epoch 39/100\n",
      "100/100 [==============================] - 9s 90ms/step - loss: 0.0490 - acc: 0.9790 - val_loss: 0.2601 - val_acc: 0.9210\n",
      "Epoch 40/100\n",
      "100/100 [==============================] - 9s 89ms/step - loss: 0.0537 - acc: 0.9790 - val_loss: 0.2588 - val_acc: 0.9300\n",
      "Epoch 41/100\n",
      "100/100 [==============================] - 9s 90ms/step - loss: 0.0454 - acc: 0.9835 - val_loss: 0.2279 - val_acc: 0.9340\n",
      "Epoch 42/100\n",
      "100/100 [==============================] - 9s 90ms/step - loss: 0.0448 - acc: 0.9820 - val_loss: 0.2620 - val_acc: 0.9270\n",
      "Epoch 43/100\n",
      "100/100 [==============================] - 9s 90ms/step - loss: 0.0528 - acc: 0.9840 - val_loss: 0.2050 - val_acc: 0.9410\n",
      "Epoch 44/100\n",
      "100/100 [==============================] - 9s 90ms/step - loss: 0.0507 - acc: 0.9825 - val_loss: 0.2375 - val_acc: 0.9350\n",
      "Epoch 45/100\n",
      "100/100 [==============================] - 9s 90ms/step - loss: 0.0475 - acc: 0.9810 - val_loss: 0.2351 - val_acc: 0.9330\n",
      "Epoch 46/100\n",
      "100/100 [==============================] - 9s 90ms/step - loss: 0.0475 - acc: 0.9825 - val_loss: 0.2404 - val_acc: 0.9280\n",
      "Epoch 47/100\n",
      "100/100 [==============================] - 9s 90ms/step - loss: 0.0430 - acc: 0.9835 - val_loss: 0.1998 - val_acc: 0.9470\n",
      "Epoch 48/100\n",
      "100/100 [==============================] - 9s 90ms/step - loss: 0.0434 - acc: 0.9850 - val_loss: 0.2100 - val_acc: 0.9390\n",
      "Epoch 49/100\n",
      "100/100 [==============================] - 9s 90ms/step - loss: 0.0457 - acc: 0.9800 - val_loss: 0.2492 - val_acc: 0.9340\n",
      "Epoch 50/100\n",
      "100/100 [==============================] - 9s 90ms/step - loss: 0.0383 - acc: 0.9870 - val_loss: 0.3040 - val_acc: 0.9280\n",
      "Epoch 51/100\n",
      "100/100 [==============================] - 9s 90ms/step - loss: 0.0328 - acc: 0.9905 - val_loss: 0.2035 - val_acc: 0.9430\n",
      "Epoch 52/100\n",
      "100/100 [==============================] - 9s 90ms/step - loss: 0.0361 - acc: 0.9845 - val_loss: 0.2070 - val_acc: 0.9360\n",
      "Epoch 53/100\n",
      "100/100 [==============================] - 9s 91ms/step - loss: 0.0333 - acc: 0.9895 - val_loss: 0.2984 - val_acc: 0.9340\n",
      "Epoch 54/100\n",
      "100/100 [==============================] - 9s 90ms/step - loss: 0.0388 - acc: 0.9875 - val_loss: 0.2922 - val_acc: 0.9260\n",
      "Epoch 55/100\n",
      "100/100 [==============================] - 9s 90ms/step - loss: 0.0403 - acc: 0.9890 - val_loss: 0.1762 - val_acc: 0.9430\n",
      "Epoch 56/100\n",
      "100/100 [==============================] - 9s 90ms/step - loss: 0.0408 - acc: 0.9840 - val_loss: 0.2594 - val_acc: 0.9350\n",
      "Epoch 57/100\n",
      "100/100 [==============================] - 9s 90ms/step - loss: 0.0250 - acc: 0.9920 - val_loss: 0.2207 - val_acc: 0.9280\n",
      "Epoch 58/100\n",
      "100/100 [==============================] - 9s 90ms/step - loss: 0.0317 - acc: 0.9895 - val_loss: 0.2079 - val_acc: 0.9430\n",
      "Epoch 59/100\n",
      "100/100 [==============================] - 9s 89ms/step - loss: 0.0286 - acc: 0.9900 - val_loss: 0.2786 - val_acc: 0.9380\n",
      "Epoch 60/100\n",
      "100/100 [==============================] - 9s 90ms/step - loss: 0.0426 - acc: 0.9830 - val_loss: 0.3187 - val_acc: 0.9310\n",
      "Epoch 61/100\n",
      "100/100 [==============================] - 9s 90ms/step - loss: 0.0319 - acc: 0.9865 - val_loss: 0.2866 - val_acc: 0.9360\n"
     ]
    },
    {
     "name": "stdout",
     "output_type": "stream",
     "text": [
      "Epoch 62/100\n",
      "100/100 [==============================] - 9s 90ms/step - loss: 0.0347 - acc: 0.9880 - val_loss: 0.2380 - val_acc: 0.9340\n",
      "Epoch 63/100\n",
      "100/100 [==============================] - 9s 90ms/step - loss: 0.0284 - acc: 0.9890 - val_loss: 0.1854 - val_acc: 0.9380\n",
      "Epoch 64/100\n",
      "100/100 [==============================] - 9s 89ms/step - loss: 0.0274 - acc: 0.9880 - val_loss: 0.2452 - val_acc: 0.9290\n",
      "Epoch 65/100\n",
      "100/100 [==============================] - 9s 91ms/step - loss: 0.0231 - acc: 0.9905 - val_loss: 0.2645 - val_acc: 0.9350\n",
      "Epoch 66/100\n",
      "100/100 [==============================] - 9s 89ms/step - loss: 0.0229 - acc: 0.9915 - val_loss: 0.2040 - val_acc: 0.9410\n",
      "Epoch 67/100\n",
      "100/100 [==============================] - 9s 90ms/step - loss: 0.0311 - acc: 0.9860 - val_loss: 0.2589 - val_acc: 0.9300\n",
      "Epoch 68/100\n",
      "100/100 [==============================] - 9s 90ms/step - loss: 0.0324 - acc: 0.9895 - val_loss: 0.2793 - val_acc: 0.9330\n",
      "Epoch 69/100\n",
      "100/100 [==============================] - 9s 89ms/step - loss: 0.0271 - acc: 0.9895 - val_loss: 0.2313 - val_acc: 0.9320\n",
      "Epoch 70/100\n",
      "100/100 [==============================] - 9s 89ms/step - loss: 0.0335 - acc: 0.9885 - val_loss: 0.2842 - val_acc: 0.9280\n",
      "Epoch 71/100\n",
      "100/100 [==============================] - 9s 90ms/step - loss: 0.0331 - acc: 0.9895 - val_loss: 0.1967 - val_acc: 0.9450\n",
      "Epoch 72/100\n",
      "100/100 [==============================] - 9s 90ms/step - loss: 0.0271 - acc: 0.9930 - val_loss: 0.2912 - val_acc: 0.9290\n",
      "Epoch 73/100\n",
      "100/100 [==============================] - 9s 89ms/step - loss: 0.0264 - acc: 0.9895 - val_loss: 0.2125 - val_acc: 0.9440\n",
      "Epoch 74/100\n",
      "100/100 [==============================] - 9s 90ms/step - loss: 0.0202 - acc: 0.9920 - val_loss: 0.3987 - val_acc: 0.9200\n",
      "Epoch 75/100\n",
      "100/100 [==============================] - 9s 91ms/step - loss: 0.0256 - acc: 0.9915 - val_loss: 0.4780 - val_acc: 0.9080\n",
      "Epoch 76/100\n",
      "100/100 [==============================] - 9s 90ms/step - loss: 0.0303 - acc: 0.9885 - val_loss: 0.2781 - val_acc: 0.9390\n",
      "Epoch 77/100\n",
      "100/100 [==============================] - 9s 90ms/step - loss: 0.0154 - acc: 0.9945 - val_loss: 0.3499 - val_acc: 0.9270\n",
      "Epoch 78/100\n",
      "100/100 [==============================] - 9s 90ms/step - loss: 0.0168 - acc: 0.9950 - val_loss: 0.3261 - val_acc: 0.9360\n",
      "Epoch 79/100\n",
      "100/100 [==============================] - 9s 90ms/step - loss: 0.0274 - acc: 0.9875 - val_loss: 0.2949 - val_acc: 0.9380\n",
      "Epoch 80/100\n",
      "100/100 [==============================] - 9s 90ms/step - loss: 0.0337 - acc: 0.9875 - val_loss: 0.2551 - val_acc: 0.9260\n",
      "Epoch 81/100\n",
      "100/100 [==============================] - 9s 90ms/step - loss: 0.0343 - acc: 0.9890 - val_loss: 0.2342 - val_acc: 0.9380\n",
      "Epoch 82/100\n",
      "100/100 [==============================] - 9s 90ms/step - loss: 0.0291 - acc: 0.9905 - val_loss: 0.2539 - val_acc: 0.9380\n",
      "Epoch 83/100\n",
      "100/100 [==============================] - 9s 90ms/step - loss: 0.0170 - acc: 0.9920 - val_loss: 0.3557 - val_acc: 0.9320\n",
      "Epoch 84/100\n",
      "100/100 [==============================] - 9s 90ms/step - loss: 0.0237 - acc: 0.9905 - val_loss: 0.3431 - val_acc: 0.9320\n",
      "Epoch 85/100\n",
      "100/100 [==============================] - 9s 90ms/step - loss: 0.0207 - acc: 0.9915 - val_loss: 0.2846 - val_acc: 0.9360\n",
      "Epoch 86/100\n",
      "100/100 [==============================] - 9s 90ms/step - loss: 0.0281 - acc: 0.9885 - val_loss: 0.2773 - val_acc: 0.9370\n",
      "Epoch 87/100\n",
      "100/100 [==============================] - 9s 89ms/step - loss: 0.0144 - acc: 0.9955 - val_loss: 0.2700 - val_acc: 0.9330\n",
      "Epoch 88/100\n",
      "100/100 [==============================] - 9s 90ms/step - loss: 0.0233 - acc: 0.9915 - val_loss: 0.3027 - val_acc: 0.9320\n",
      "Epoch 89/100\n",
      "100/100 [==============================] - 9s 90ms/step - loss: 0.0151 - acc: 0.9935 - val_loss: 0.3105 - val_acc: 0.9370\n",
      "Epoch 90/100\n",
      "100/100 [==============================] - 9s 90ms/step - loss: 0.0255 - acc: 0.9900 - val_loss: 0.3125 - val_acc: 0.9230\n",
      "Epoch 91/100\n",
      "100/100 [==============================] - 9s 90ms/step - loss: 0.0213 - acc: 0.9905 - val_loss: 0.2741 - val_acc: 0.9440\n",
      "Epoch 92/100\n",
      "100/100 [==============================] - 9s 90ms/step - loss: 0.0220 - acc: 0.9925 - val_loss: 0.6143 - val_acc: 0.9020\n",
      "Epoch 93/100\n",
      "100/100 [==============================] - 9s 90ms/step - loss: 0.0215 - acc: 0.9910 - val_loss: 0.2806 - val_acc: 0.9330\n",
      "Epoch 94/100\n",
      "100/100 [==============================] - 9s 91ms/step - loss: 0.0298 - acc: 0.9895 - val_loss: 0.2621 - val_acc: 0.9470\n",
      "Epoch 95/100\n",
      "100/100 [==============================] - 9s 90ms/step - loss: 0.0235 - acc: 0.9940 - val_loss: 0.3553 - val_acc: 0.9250\n",
      "Epoch 96/100\n",
      "100/100 [==============================] - 9s 90ms/step - loss: 0.0172 - acc: 0.9930 - val_loss: 0.3565 - val_acc: 0.9330\n",
      "Epoch 97/100\n",
      "100/100 [==============================] - 9s 90ms/step - loss: 0.0236 - acc: 0.9935 - val_loss: 0.3225 - val_acc: 0.9280\n",
      "Epoch 98/100\n",
      "100/100 [==============================] - 9s 91ms/step - loss: 0.0245 - acc: 0.9945 - val_loss: 0.4327 - val_acc: 0.9220\n",
      "Epoch 99/100\n",
      "100/100 [==============================] - 9s 89ms/step - loss: 0.0085 - acc: 0.9975 - val_loss: 0.3189 - val_acc: 0.9340\n",
      "Epoch 100/100\n",
      "100/100 [==============================] - 9s 91ms/step - loss: 0.0217 - acc: 0.9935 - val_loss: 0.4083 - val_acc: 0.9130\n"
     ]
    }
   ],
   "source": [
    "model.compile(loss='binary_crossentropy',\n",
    "              optimizer=optimizers.RMSprop(lr=1e-5),\n",
    "              metrics=['acc'])\n",
    "\n",
    "history = model.fit_generator(\n",
    "      train_generator,\n",
    "      steps_per_epoch=100,\n",
    "      epochs=100,\n",
    "      validation_data=validation_generator,\n",
    "      validation_steps=50)"
   ]
  },
  {
   "cell_type": "code",
   "execution_count": 27,
   "metadata": {},
   "outputs": [],
   "source": [
    "model.save('cats_and_dogs_small_4.h5')"
   ]
  },
  {
   "cell_type": "code",
   "execution_count": 28,
   "metadata": {},
   "outputs": [
    {
     "data": {
      "image/png": "[encoded data removed]",
      "text/plain": [
       "<Figure size 432x288 with 1 Axes>"
      ]
     },
     "metadata": {},
     "output_type": "display_data"
    },
    {
     "data": {
      "image/png": "[encoded data removed]",
      "text/plain": [
       "<Figure size 432x288 with 1 Axes>"
      ]
     },
     "metadata": {},
     "output_type": "display_data"
    }
   ],
   "source": [
    "acc = history.history['acc']\n",
    "val_acc = history.history['val_acc']\n",
    "loss = history.history['loss']\n",
    "val_loss = history.history['val_loss']\n",
    "\n",
    "epochs = range(len(acc))\n",
    "\n",
    "plt.plot(epochs, acc, 'bo', label='Training acc')\n",
    "plt.plot(epochs, val_acc, 'b', label='Validation acc')\n",
    "plt.title('Training and validation accuracy')\n",
    "plt.legend()\n",
    "\n",
    "plt.figure()\n",
    "\n",
    "plt.plot(epochs, loss, 'bo', label='Training loss')\n",
    "plt.plot(epochs, val_loss, 'b', label='Validation loss')\n",
    "plt.title('Training and validation loss')\n",
    "plt.legend()\n",
    "\n",
    "plt.show()"
   ]
  },
  {
   "cell_type": "code",
   "execution_count": 29,
   "metadata": {},
   "outputs": [
    {
     "data": {
      "image/png": "[encoded data removed]",
      "text/plain": [
       "<Figure size 432x288 with 1 Axes>"
      ]
     },
     "metadata": {},
     "output_type": "display_data"
    },
    {
     "data": {
      "image/png": "[encoded data removed]",
      "text/plain": [
       "<Figure size 432x288 with 1 Axes>"
      ]
     },
     "metadata": {},
     "output_type": "display_data"
    }
   ],
   "source": [
    "def smooth_curve(points, factor=0.8):\n",
    "  smoothed_points = []\n",
    "  for point in points:\n",
    "    if smoothed_points:\n",
    "      previous = smoothed_points[-1]\n",
    "      smoothed_points.append(previous * factor + point * (1 - factor))\n",
    "    else:\n",
    "      smoothed_points.append(point)\n",
    "  return smoothed_points\n",
    "\n",
    "plt.plot(epochs,\n",
    "         smooth_curve(acc), 'bo', label='Smoothed training acc')\n",
    "plt.plot(epochs,\n",
    "         smooth_curve(val_acc), 'b', label='Smoothed validation acc')\n",
    "plt.title('Training and validation accuracy')\n",
    "plt.legend()\n",
    "\n",
    "plt.figure()\n",
    "\n",
    "plt.plot(epochs,\n",
    "         smooth_curve(loss), 'bo', label='Smoothed training loss')\n",
    "plt.plot(epochs,\n",
    "         smooth_curve(val_loss), 'b', label='Smoothed validation loss')\n",
    "plt.title('Training and validation loss')\n",
    "plt.legend()\n",
    "\n",
    "plt.show()"
   ]
  },
  {
   "cell_type": "code",
   "execution_count": 30,
   "metadata": {},
   "outputs": [
    {
     "name": "stdout",
     "output_type": "stream",
     "text": [
      "Found 1000 images belonging to 2 classes.\n",
      "test acc: 0.9269999945163727\n"
     ]
    }
   ],
   "source": [
    "test_generator = test_datagen.flow_from_directory(\n",
    "        test_dir,\n",
    "        target_size=(150, 150),\n",
    "        batch_size=20,\n",
    "        class_mode='binary')\n",
    "\n",
    "test_loss, test_acc = model.evaluate_generator(test_generator, steps=50)\n",
    "print('test acc:', test_acc)"
   ]
  },
  {
   "cell_type": "code",
   "execution_count": null,
   "metadata": {},
   "outputs": [],
   "source": []
  }
 ],
 "metadata": {
  "kernelspec": {
   "display_name": "Python 3",
   "language": "python",
   "name": "python3"
  },
  "language_info": {
   "codemirror_mode": {
    "name": "ipython",
    "version": 3
   },
   "file_extension": ".py",
   "mimetype": "text/x-python",
   "name": "python",
   "nbconvert_exporter": "python",
   "pygments_lexer": "ipython3",
   "version": "3.6.5"
  }
 },
 "nbformat": 4,
 "nbformat_minor": 2
}
